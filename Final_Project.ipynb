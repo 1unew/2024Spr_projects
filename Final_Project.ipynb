{
 "cells": [
  {
   "cell_type": "code",
   "outputs": [],
   "source": [
    "import pandas as pd\n",
    "import os"
   ],
   "metadata": {
    "collapsed": false,
    "ExecuteTime": {
     "end_time": "2024-04-22T22:46:23.850540Z",
     "start_time": "2024-04-22T22:46:23.843678400Z"
    }
   },
   "id": "4b39d312d1f6f07f",
   "execution_count": 15
  },
  {
   "cell_type": "code",
   "execution_count": 17,
   "id": "initial_id",
   "metadata": {
    "collapsed": true,
    "ExecuteTime": {
     "end_time": "2024-04-22T22:46:39.763627300Z",
     "start_time": "2024-04-22T22:46:39.739274300Z"
    }
   },
   "outputs": [
    {
     "name": "stderr",
     "output_type": "stream",
     "text": [
      "C:\\Users\\ZhenLi\\anaconda3\\envs\\env_is597\\Lib\\site-packages\\openpyxl\\styles\\stylesheet.py:226: UserWarning: Workbook contains no default style, apply openpyxl's default\n",
      "  warn(\"Workbook contains no default style, apply openpyxl's default\")\n"
     ]
    },
    {
     "data": {
      "text/plain": "MultiIndex([(1980, 'Jan'),\n            (1981, 'Jan'),\n            (1982, 'Jan'),\n            (1983, 'Jan'),\n            (1984, 'Jan'),\n            (1985, 'Jan'),\n            (1986, 'Jan'),\n            (1987, 'Jan'),\n            (1988, 'Jan'),\n            (1989, 'Jan'),\n            ...\n            (2015, 'Dec'),\n            (2016, 'Dec'),\n            (2017, 'Dec'),\n            (2018, 'Dec'),\n            (2019, 'Dec'),\n            (2020, 'Dec'),\n            (2021, 'Dec'),\n            (2022, 'Dec'),\n            (2023, 'Dec'),\n            (2024, 'Dec')],\n           names=['Year', 'Month'], length=540)"
     },
     "execution_count": 17,
     "metadata": {},
     "output_type": "execute_result"
    }
   ],
   "source": [
    "def read_excel_data(dir_path, file_name):\n",
    "    # Construct the full file path\n",
    "    full_path = os.path.join(dir_path, file_name)\n",
    "    # Read the excel file\n",
    "    df = pd.read_excel(full_path, skiprows=11)\n",
    "    \n",
    "    month_column = df.columns.tolist()\n",
    "    month_column.remove('Year')\n",
    "    age_header = file_name.split('.')[0]\n",
    "    \n",
    "    # Restructure the data frame, unpivot the data, set year and month as index\n",
    "    df = pd.melt(df, id_vars='Year', value_vars=month_column, var_name='Month', value_name=age_header)\n",
    "    df.set_index(['Year', 'Month'])\n",
    "    return df\n",
    "\n",
    "df = read_excel_data('Data/USBLS', '16-24years.xlsx')\n",
    "df.index"
   ]
  },
  {
   "cell_type": "code",
   "outputs": [],
   "source": [],
   "metadata": {
    "collapsed": false,
    "ExecuteTime": {
     "end_time": "2024-04-22T22:46:23.879715Z",
     "start_time": "2024-04-22T22:46:23.877289400Z"
    }
   },
   "id": "8120f561ef068571",
   "execution_count": 16
  }
 ],
 "metadata": {
  "kernelspec": {
   "display_name": "Python 3",
   "language": "python",
   "name": "python3"
  },
  "language_info": {
   "codemirror_mode": {
    "name": "ipython",
    "version": 2
   },
   "file_extension": ".py",
   "mimetype": "text/x-python",
   "name": "python",
   "nbconvert_exporter": "python",
   "pygments_lexer": "ipython2",
   "version": "2.7.6"
  }
 },
 "nbformat": 4,
 "nbformat_minor": 5
}
